{
 "cells": [
  {
   "cell_type": "code",
   "execution_count": 1,
   "metadata": {},
   "outputs": [],
   "source": [
    "fnames = [a.replace(\"\\n\", \"\") for a in open(\"whois_tld_ls\", \"r\").readlines()]"
   ]
  },
  {
   "cell_type": "code",
   "execution_count": 2,
   "metadata": {},
   "outputs": [],
   "source": [
    "import pickle\n",
    "from collections import Counter\n",
    "\n",
    "c = pickle.load(open(\"fields.pickle\", \"rb\"))"
   ]
  },
  {
   "cell_type": "code",
   "execution_count": 3,
   "metadata": {},
   "outputs": [],
   "source": [
    "import re\n",
    "fields = [re.escape(a[0].strip()) for a in c.most_common(500)]"
   ]
  },
  {
   "cell_type": "code",
   "execution_count": 4,
   "metadata": {},
   "outputs": [],
   "source": [
    "regex_str = \"^\\s*({})[\\t ]*:\\s*(.*)\".format(\"|\".join(fields))\n",
    "regex = re.compile(regex_str, re.MULTILINE)"
   ]
  },
  {
   "cell_type": "code",
   "execution_count": 5,
   "metadata": {},
   "outputs": [],
   "source": [
    "def get_vector(text):\n",
    "    features = {a[0]: a[1] for a in regex.findall(text)}\n",
    "    return features"
   ]
  },
  {
   "cell_type": "code",
   "execution_count": 6,
   "metadata": {},
   "outputs": [],
   "source": [
    "import tqdm\n",
    "import os\n",
    "def get_all_features(force_calc=False):\n",
    "    if not force_calc:\n",
    "        if os.path.exists(\"all_features.pickle\"):\n",
    "            return pickle.load(open(\"all_features.pickle\", \"rb\"))\n",
    "    all_features = {}\n",
    "    for name in tqdm.tqdm(fnames):\n",
    "        try:\n",
    "            all_features[name.replace(\".whoistld\", \"\")] = get_vector(open(\"whois_tld/\" + name, \"r\").read())\n",
    "        except:\n",
    "            pass\n",
    "    pickle.dump(all_features, open(\"all_features.pickle\", \"wb\"))\n",
    "    return all_features\n",
    "\n",
    "all_features = get_all_features(force_calc=False)\n"
   ]
  },
  {
   "cell_type": "code",
   "execution_count": 7,
   "metadata": {},
   "outputs": [
    {
     "data": {
      "text/plain": [
       "99.98191089825312"
      ]
     },
     "execution_count": 7,
     "metadata": {},
     "output_type": "execute_result"
    }
   ],
   "source": [
    "len(list(all_features.keys())) / len(fnames) * 100"
   ]
  },
  {
   "cell_type": "code",
   "execution_count": 8,
   "metadata": {},
   "outputs": [],
   "source": [
    "# pickle.dump(all_features, open(\"all_features.pickle\", \"wb\"))"
   ]
  },
  {
   "cell_type": "code",
   "execution_count": 9,
   "metadata": {},
   "outputs": [
    {
     "data": {
      "text/plain": [
       "{'Domain Name': 'GOOGLE.COM',\n",
       " 'Registry Domain ID': '2138514_DOMAIN_COM-VRSN',\n",
       " 'Registrar WHOIS Server': 'whois.markmonitor.com',\n",
       " 'Registrar URL': 'http://www.markmonitor.com',\n",
       " 'Updated Date': '2019-09-09T15:39:04Z',\n",
       " 'Creation Date': '1997-09-15T04:00:00Z',\n",
       " 'Registry Expiry Date': '2028-09-14T04:00:00Z',\n",
       " 'Registrar': 'MarkMonitor Inc.',\n",
       " 'Registrar IANA ID': '292',\n",
       " 'Registrar Abuse Contact Email': 'abusecomplaints@markmonitor.com',\n",
       " 'Registrar Abuse Contact Phone': '+1.2083895740',\n",
       " 'Domain Status': 'serverUpdateProhibited https://icann.org/epp#serverUpdateProhibited',\n",
       " 'Name Server': 'NS4.GOOGLE.COM',\n",
       " 'DNSSEC': 'unsigned',\n",
       " '>>> Last update of whois database': '2020-07-07T03:02:05Z <<<',\n",
       " 'NOTICE': 'The expiration date displayed in this record is the date the',\n",
       " 'TERMS OF USE': 'You are not authorized to access or query our Whois',\n",
       " 'by the following terms of use': 'You agree that you may use this Data only',\n",
       " 'to': '(1) allow, enable, or otherwise support the transmission of mass'}"
      ]
     },
     "execution_count": 9,
     "metadata": {},
     "output_type": "execute_result"
    }
   ],
   "source": [
    "all_features[\"google.com\"]"
   ]
  },
  {
   "cell_type": "code",
   "execution_count": 10,
   "metadata": {},
   "outputs": [],
   "source": [
    "from fuzzywuzzy import fuzz\n",
    "\n",
    "def diff_score(vec1, vec2):\n",
    "    key1 = set(vec1.keys())\n",
    "    key2 = set(vec2.keys())\n",
    "    \n",
    "    sym_diff_score = len(key1 ^ key2)\n",
    "    common = key1 & key2\n",
    "    \n",
    "    common_diffs = [1 - fuzz.ratio(vec1[a], vec2[a]) / 100 for a in list(common)]\n",
    "    common_diff_score = sum(common_diffs)\n",
    "    \n",
    "    total_score = common_diff_score + sym_diff_score\n",
    "    \n",
    "    norm = len(key1 | key2)\n",
    "    \n",
    "    return common_diff_score / len(common)"
   ]
  },
  {
   "cell_type": "code",
   "execution_count": 11,
   "metadata": {},
   "outputs": [
    {
     "data": {
      "text/plain": [
       "0.16052631578947368"
      ]
     },
     "execution_count": 11,
     "metadata": {},
     "output_type": "execute_result"
    }
   ],
   "source": [
    "diff_score(all_features[\"github.com\"], all_features[\"google.com\"])"
   ]
  },
  {
   "cell_type": "code",
   "execution_count": 12,
   "metadata": {},
   "outputs": [
    {
     "data": {
      "text/plain": [
       "{'Domain Name': 'FACEBOOK.COM',\n",
       " 'Registry Domain ID': '2320948_DOMAIN_COM-VRSN',\n",
       " 'Registrar WHOIS Server': 'whois.registrarsafe.com',\n",
       " 'Registrar URL': 'https://www.registrarsafe.com',\n",
       " 'Updated Date': '2020-03-10T18:53:59Z',\n",
       " 'Creation Date': '1997-03-29T05:00:00Z',\n",
       " 'Registry Expiry Date': '2028-03-30T04:00:00Z',\n",
       " 'Registrar': 'RegistrarSafe, LLC',\n",
       " 'Registrar IANA ID': '3237',\n",
       " 'Registrar Abuse Contact Email': 'abusecomplaints@registrarsafe.com',\n",
       " 'Registrar Abuse Contact Phone': '+1.6503087004',\n",
       " 'Domain Status': 'serverUpdateProhibited https://www.icann.org/epp#serverUpdateProhibited',\n",
       " 'Name Server': 'D.NS.FACEBOOK.COM',\n",
       " 'DNSSEC': 'unsigned',\n",
       " '>>> Last update of whois database': '2020-07-07T05:03:46Z <<<',\n",
       " 'NOTICE': 'The expiration date displayed in this record is the date the',\n",
       " 'TERMS OF USE': 'You are not authorized to access or query our Whois',\n",
       " 'by the following terms of use': 'You agree that you may use this Data only',\n",
       " 'to': '(1) allow, enable, or otherwise support the transmission of mass',\n",
       " 'Registrar Registration Expiration Date': '2028-03-30T04:00:00Z',\n",
       " 'Registry Registrant ID': 'Registrant Name: Domain Admin',\n",
       " 'Registrant Organization': 'Facebook, Inc.',\n",
       " 'Registrant Street': '1601 Willow Rd ',\n",
       " 'Registrant City': 'Menlo Park',\n",
       " 'Registrant State/Province': 'CA',\n",
       " 'Registrant Postal Code': '94025',\n",
       " 'Registrant Country': 'US',\n",
       " 'Registrant Phone': '+1.6505434800',\n",
       " 'Registrant Phone Ext': 'Registrant Fax: +1.6505434800',\n",
       " 'Registrant Fax Ext': 'Registrant Email: domain@fb.com',\n",
       " 'Registry Admin ID': 'Admin Name: Domain Admin',\n",
       " 'Admin Organization': 'Facebook, Inc.',\n",
       " 'Admin Street': '1601 Willow Rd ',\n",
       " 'Admin City': 'Menlo Park',\n",
       " 'Admin State/Province': 'CA',\n",
       " 'Admin Postal Code': '94025',\n",
       " 'Admin Country': 'US',\n",
       " 'Admin Phone': '+1.6505434800',\n",
       " 'Admin Phone Ext': 'Admin Fax: +1.6505434800',\n",
       " 'Admin Fax Ext': 'Admin Email: domain@fb.com',\n",
       " 'Registry Tech ID': 'Tech Name: Domain Admin',\n",
       " 'Tech Organization': 'Facebook, Inc.',\n",
       " 'Tech Street': '1601 Willow Rd ',\n",
       " 'Tech City': 'Menlo Park',\n",
       " 'Tech State/Province': 'CA',\n",
       " 'Tech Postal Code': '94025',\n",
       " 'Tech Country': 'US',\n",
       " 'Tech Phone': '+1.6505434800',\n",
       " 'Tech Phone Ext': 'Tech Fax: +1.6505434800',\n",
       " 'Tech Fax Ext': 'Tech Email: domain@fb.com',\n",
       " '>>> Last update of WHOIS database': '2020-07-07T05:03:53Z <<<',\n",
       " 'https': '//www.icann.org/resources/pages/epp-status-codes-2014-06-16-en.'}"
      ]
     },
     "execution_count": 12,
     "metadata": {},
     "output_type": "execute_result"
    }
   ],
   "source": [
    "all_features[\"facebook.com\"]"
   ]
  },
  {
   "cell_type": "code",
   "execution_count": 13,
   "metadata": {},
   "outputs": [
    {
     "data": {
      "text/plain": [
       "{'Domain Name': 'yahoo.com',\n",
       " 'Registry Domain ID': '3643624_DOMAIN_COM-VRSN',\n",
       " 'Registrar WHOIS Server': 'whois.markmonitor.com',\n",
       " 'Registrar URL': 'http://www.markmonitor.com',\n",
       " 'Updated Date': '2019-12-18T05:45:43-0800',\n",
       " 'Creation Date': '1995-01-18T00:00:00-0800',\n",
       " 'Registry Expiry Date': '2023-01-19T05:00:00Z',\n",
       " 'Registrar': 'MarkMonitor, Inc.',\n",
       " 'Registrar IANA ID': '292',\n",
       " 'Registrar Abuse Contact Email': 'abusecomplaints@markmonitor.com',\n",
       " 'Registrar Abuse Contact Phone': '+1.2083895770',\n",
       " 'Domain Status': 'serverDeleteProhibited (https://www.icann.org/epp#serverDeleteProhibited)',\n",
       " 'Name Server': 'ns4.yahoo.com',\n",
       " 'DNSSEC': 'unsigned',\n",
       " '>>> Last update of whois database': '2020-07-07T00:00:36Z <<<',\n",
       " 'NOTICE': 'The expiration date displayed in this record is the date the',\n",
       " 'TERMS OF USE': 'You are not authorized to access or query our Whois',\n",
       " 'by the following terms of use': 'You agree that you may use this Data only',\n",
       " 'to': '(1) allow, enable, or otherwise support the transmission of mass',\n",
       " 'Registrar Registration Expiration Date': '2023-01-18T21:00:00-0800',\n",
       " 'Registry Registrant ID': 'Registrant Name: Domain Admin',\n",
       " 'Registrant Organization': 'Oath Inc.',\n",
       " 'Registrant Street': '22000 AOL Way',\n",
       " 'Registrant City': 'Dulles',\n",
       " 'Registrant State/Province': 'VA',\n",
       " 'Registrant Postal Code': '20166',\n",
       " 'Registrant Country': 'US',\n",
       " 'Registrant Phone': '+1.4083493300',\n",
       " 'Registrant Phone Ext': 'Registrant Fax: ',\n",
       " 'Registrant Fax Ext': 'Registrant Email: domain-admin@oath.com',\n",
       " 'Registry Admin ID': 'Admin Name: Domain Admin',\n",
       " 'Admin Organization': 'Oath Inc.',\n",
       " 'Admin Street': '22000 AOL Way',\n",
       " 'Admin City': 'Dulles',\n",
       " 'Admin State/Province': 'VA',\n",
       " 'Admin Postal Code': '20166',\n",
       " 'Admin Country': 'US',\n",
       " 'Admin Phone': '+1.4083493300',\n",
       " 'Admin Phone Ext': 'Admin Fax: ',\n",
       " 'Admin Fax Ext': 'Admin Email: domain-admin@oath.com',\n",
       " 'Registry Tech ID': 'Tech Name: Domain Admin',\n",
       " 'Tech Organization': 'Oath Inc.',\n",
       " 'Tech Street': '22000 AOL Way',\n",
       " 'Tech City': 'Dulles',\n",
       " 'Tech State/Province': 'VA',\n",
       " 'Tech Postal Code': '20166',\n",
       " 'Tech Country': 'US',\n",
       " 'Tech Phone': '+1.4083493300',\n",
       " 'Tech Phone Ext': 'Tech Fax: ',\n",
       " 'Tech Fax Ext': 'Tech Email: domain-admin@oath.com',\n",
       " '>>> Last update of WHOIS database': '2020-07-06T16:56:41-0700 <<<',\n",
       " 'https': '//www.icann.org/resources/pages/epp-status-codes',\n",
       " 'Web-based WHOIS': 'https://domains.markmonitor.com/whois',\n",
       " 'Visit MarkMonitor at https': '//www.markmonitor.com'}"
      ]
     },
     "execution_count": 13,
     "metadata": {},
     "output_type": "execute_result"
    }
   ],
   "source": [
    "all_features[\"yahoo.com\"]"
   ]
  },
  {
   "cell_type": "code",
   "execution_count": 14,
   "metadata": {},
   "outputs": [
    {
     "data": {
      "text/plain": [
       "{'Domain Name': 'GITHUB.COM',\n",
       " 'Registry Domain ID': '1264983250_DOMAIN_COM-VRSN',\n",
       " 'Registrar WHOIS Server': 'whois.markmonitor.com',\n",
       " 'Registrar URL': 'http://www.markmonitor.com',\n",
       " 'Updated Date': '2020-06-23T14:04:50Z',\n",
       " 'Creation Date': '2007-10-09T18:20:50Z',\n",
       " 'Registry Expiry Date': '2020-10-09T18:20:50Z',\n",
       " 'Registrar': 'MarkMonitor Inc.',\n",
       " 'Registrar IANA ID': '292',\n",
       " 'Registrar Abuse Contact Email': 'abusecomplaints@markmonitor.com',\n",
       " 'Registrar Abuse Contact Phone': '+1.2083895740',\n",
       " 'Domain Status': 'clientUpdateProhibited https://icann.org/epp#clientUpdateProhibited',\n",
       " 'Name Server': 'NS4.P16.DYNECT.NET',\n",
       " 'DNSSEC': 'unsigned',\n",
       " '>>> Last update of whois database': '2020-07-07T01:43:11Z <<<',\n",
       " 'NOTICE': 'The expiration date displayed in this record is the date the',\n",
       " 'TERMS OF USE': 'You are not authorized to access or query our Whois',\n",
       " 'by the following terms of use': 'You agree that you may use this Data only',\n",
       " 'to': '(1) allow, enable, or otherwise support the transmission of mass'}"
      ]
     },
     "execution_count": 14,
     "metadata": {},
     "output_type": "execute_result"
    }
   ],
   "source": [
    "all_features[\"github.com\"]"
   ]
  },
  {
   "cell_type": "code",
   "execution_count": 15,
   "metadata": {},
   "outputs": [
    {
     "data": {
      "text/plain": [
       "{'Domain Name': 'GOOGLE.COM',\n",
       " 'Registry Domain ID': '2138514_DOMAIN_COM-VRSN',\n",
       " 'Registrar WHOIS Server': 'whois.markmonitor.com',\n",
       " 'Registrar URL': 'http://www.markmonitor.com',\n",
       " 'Updated Date': '2019-09-09T15:39:04Z',\n",
       " 'Creation Date': '1997-09-15T04:00:00Z',\n",
       " 'Registry Expiry Date': '2028-09-14T04:00:00Z',\n",
       " 'Registrar': 'MarkMonitor Inc.',\n",
       " 'Registrar IANA ID': '292',\n",
       " 'Registrar Abuse Contact Email': 'abusecomplaints@markmonitor.com',\n",
       " 'Registrar Abuse Contact Phone': '+1.2083895740',\n",
       " 'Domain Status': 'serverUpdateProhibited https://icann.org/epp#serverUpdateProhibited',\n",
       " 'Name Server': 'NS4.GOOGLE.COM',\n",
       " 'DNSSEC': 'unsigned',\n",
       " '>>> Last update of whois database': '2020-07-07T03:02:05Z <<<',\n",
       " 'NOTICE': 'The expiration date displayed in this record is the date the',\n",
       " 'TERMS OF USE': 'You are not authorized to access or query our Whois',\n",
       " 'by the following terms of use': 'You agree that you may use this Data only',\n",
       " 'to': '(1) allow, enable, or otherwise support the transmission of mass'}"
      ]
     },
     "execution_count": 15,
     "metadata": {},
     "output_type": "execute_result"
    }
   ],
   "source": [
    "all_features[\"google.com\"]"
   ]
  },
  {
   "cell_type": "code",
   "execution_count": 16,
   "metadata": {},
   "outputs": [
    {
     "data": {
      "text/plain": [
       "{'Domain Name': 'MICROSOFT.COM',\n",
       " 'Registry Domain ID': '2724960_DOMAIN_COM-VRSN',\n",
       " 'Registrar WHOIS Server': 'whois.markmonitor.com',\n",
       " 'Registrar URL': 'http://www.markmonitor.com',\n",
       " 'Updated Date': '2020-05-20T19:54:16Z',\n",
       " 'Creation Date': '1991-05-02T04:00:00Z',\n",
       " 'Registry Expiry Date': '2021-05-03T04:00:00Z',\n",
       " 'Registrar': 'MarkMonitor Inc.',\n",
       " 'Registrar IANA ID': '292',\n",
       " 'Registrar Abuse Contact Email': 'abusecomplaints@markmonitor.com',\n",
       " 'Registrar Abuse Contact Phone': '+1.2083895740',\n",
       " 'Domain Status': 'serverUpdateProhibited https://icann.org/epp#serverUpdateProhibited',\n",
       " 'Name Server': 'NS4-205.AZURE-DNS.INFO',\n",
       " 'DNSSEC': 'unsigned',\n",
       " '>>> Last update of whois database': '2020-07-07T05:36:57Z <<<',\n",
       " 'NOTICE': 'The expiration date displayed in this record is the date the',\n",
       " 'TERMS OF USE': 'You are not authorized to access or query our Whois',\n",
       " 'by the following terms of use': 'You agree that you may use this Data only',\n",
       " 'to': '(1) allow, enable, or otherwise support the transmission of mass'}"
      ]
     },
     "execution_count": 16,
     "metadata": {},
     "output_type": "execute_result"
    }
   ],
   "source": [
    "all_features[\"microsoft.com\"]"
   ]
  },
  {
   "cell_type": "code",
   "execution_count": null,
   "metadata": {},
   "outputs": [],
   "source": [
    "# TODO: Classifier for 90% - 10% \n",
    "\n",
    "# TODO: 67k nodes for which we have reg email, check for how many pairs of san relations we have the registrant email\n",
    "# for both the nodes. For those pairs check how many of them do not have the same 3rd party hosting provider\n",
    "# (Alan's BGLL code)"
   ]
  }
 ],
 "metadata": {
  "kernelspec": {
   "display_name": "Python 3",
   "language": "python",
   "name": "python3"
  },
  "language_info": {
   "codemirror_mode": {
    "name": "ipython",
    "version": 3
   },
   "file_extension": ".py",
   "mimetype": "text/x-python",
   "name": "python",
   "nbconvert_exporter": "python",
   "pygments_lexer": "ipython3",
   "version": "3.7.6"
  }
 },
 "nbformat": 4,
 "nbformat_minor": 4
}
